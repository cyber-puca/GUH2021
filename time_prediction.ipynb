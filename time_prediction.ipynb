{
  "nbformat": 4,
  "nbformat_minor": 0,
  "metadata": {
    "colab": {
      "name": "time_prediction.ipynb",
      "provenance": [],
      "collapsed_sections": [],
      "include_colab_link": true
    },
    "kernelspec": {
      "name": "python3",
      "display_name": "Python 3"
    },
    "language_info": {
      "name": "python"
    }
  },
  "cells": [
    {
      "cell_type": "markdown",
      "metadata": {
        "id": "view-in-github",
        "colab_type": "text"
      },
      "source": [
        "<a href=\"https://colab.research.google.com/github/cyber-puca/GUH2021/blob/main/time_prediction.ipynb\" target=\"_parent\"><img src=\"https://colab.research.google.com/assets/colab-badge.svg\" alt=\"Open In Colab\"/></a>"
      ]
    },
    {
      "cell_type": "code",
      "metadata": {
        "id": "uAoET601nHdz"
      },
      "source": [
        "import tensorflow as tf\n",
        "import pandas as pd\n",
        "import csv\n",
        "import numpy as np\n",
        "from keras.layers import Dense, Activation\n",
        "from keras.models import Sequential\n",
        "from sklearn.model_selection import train_test_split\n",
        "from sklearn.preprocessing import StandardScaler\n",
        "import matplotlib.pyplot as plt\n",
        "\n",
        "data = pd.read_csv('drive/MyDrive/car_rental_huge.csv')\n",
        "data = data.drop(columns = ['Unnamed: 0', 'Booking Number', 'Price', 'Origin Lat', 'Origin Lon', 'Haul', 'Hour', 'Year'])\n",
        "security_data = data.drop(columns=['Transport', 'Time Taken', 'Distance'])\n",
        "bus_data = data[data['Transport']==1]\n",
        "bus_data = bus_data.drop(columns='Transport')\n",
        "walk_data = data[data['Transport']==0]\n",
        "walk_data = walk_data.drop(columns='Transport')\n",
        "\n",
        "security_x = []\n",
        "security_y = []\n",
        "for idx, rows in security_data.iterrows():\n",
        "  vals = [rows['Dest Lat'], rows['Dest Lon'], rows['Day'], rows['Date'], rows['Month']]\n",
        "  security_x.append(vals)\n",
        "  security_y.append(rows['Wait'])\n",
        "security_x = np.array(security_x)\n",
        "security_y = np.array(security_y)\n",
        "\n",
        "bus_x = []\n",
        "bus_y = []\n",
        "for idx, rows in bus_data.iterrows():\n",
        "  vals = [rows['Dest Lat'], rows['Dest Lon'], rows['Day'], rows['Date'], rows['Month']]\n",
        "  bus_x.append(vals)\n",
        "  bus_y.append(rows['Time Taken'])\n",
        "bus_x = np.array(bus_x)\n",
        "bus_y = np.array(bus_y)\n",
        "\n",
        "walk_x = []\n",
        "walk_y = []\n",
        "for idx, rows in walk_data.iterrows():\n",
        "  vals = [rows['Dest Lat'], rows['Dest Lon'], rows['Day'], rows['Date'], rows['Month']]\n",
        "  walk_x.append(vals)\n",
        "  walk_y.append(rows['Time Taken'])\n",
        "walk_x = np.array(walk_x)\n",
        "walk_y = np.array(walk_y)"
      ],
      "execution_count": 4,
      "outputs": []
    },
    {
      "cell_type": "code",
      "metadata": {
        "colab": {
          "base_uri": "https://localhost:8080/"
        },
        "id": "WtuGtAOLOUiW",
        "outputId": "254f1942-2d08-4fe2-d07b-f8f0ad76c532"
      },
      "source": [
        "from google.colab import drive\n",
        "drive.mount('/content/drive')"
      ],
      "execution_count": 3,
      "outputs": [
        {
          "output_type": "stream",
          "name": "stdout",
          "text": [
            "Mounted at /content/drive\n"
          ]
        }
      ]
    },
    {
      "cell_type": "code",
      "metadata": {
        "colab": {
          "base_uri": "https://localhost:8080/"
        },
        "id": "yt4CFG0zcwhX",
        "outputId": "1813092a-fa70-443f-c68d-0b26ae0f3b29"
      },
      "source": [
        "security_x.shape"
      ],
      "execution_count": 5,
      "outputs": [
        {
          "output_type": "execute_result",
          "data": {
            "text/plain": [
              "(1000000, 7)"
            ]
          },
          "metadata": {},
          "execution_count": 5
        }
      ]
    },
    {
      "cell_type": "code",
      "metadata": {
        "colab": {
          "base_uri": "https://localhost:8080/"
        },
        "id": "-fnT7wdHd7DZ",
        "outputId": "135ecead-3af1-4fb9-8aab-d5e872814ee6"
      },
      "source": [
        "walk_x.shape"
      ],
      "execution_count": 6,
      "outputs": [
        {
          "output_type": "execute_result",
          "data": {
            "text/plain": [
              "(624810, 8)"
            ]
          },
          "metadata": {},
          "execution_count": 6
        }
      ]
    },
    {
      "cell_type": "code",
      "metadata": {
        "colab": {
          "base_uri": "https://localhost:8080/"
        },
        "id": "aUnQzODrd3UA",
        "outputId": "f8049d0a-c0fd-46d0-b305-f4caf123f9b6"
      },
      "source": [
        "bus_x.shape"
      ],
      "execution_count": 15,
      "outputs": [
        {
          "output_type": "execute_result",
          "data": {
            "text/plain": [
              "(375190, 8)"
            ]
          },
          "metadata": {},
          "execution_count": 15
        }
      ]
    },
    {
      "cell_type": "code",
      "metadata": {
        "id": "RJv_oaKnb2yf"
      },
      "source": [
        "############ defining the models ############\n",
        "security_model = Sequential()\n",
        "bus_model = Sequential()\n",
        "walk_model = Sequential()\n",
        "\n",
        "# Adding the input layer and the first hidden layer\n",
        "security_model.add(Dense(20, activation = 'relu', input_dim = 5))\n",
        "bus_model.add(Dense(20, activation = 'relu', input_dim = 5))\n",
        "walk_model.add(Dense(20, activation = 'relu', input_dim = 5))\n",
        "\n",
        "neurons = 32\n",
        "\n",
        "for i in range(10):\n",
        "  # Adding a hidden layer\n",
        "  security_model.add(Dense(units = neurons, activation = 'relu'))\n",
        "  bus_model.add(Dense(units = neurons, activation = 'relu'))\n",
        "  walk_model.add(Dense(units = neurons, activation = 'relu'))\n",
        "\n",
        "# Adding the output layer\n",
        "security_model.add(Dense(units = 1))\n",
        "bus_model.add(Dense(units = 1))\n",
        "walk_model.add(Dense(units = 1))"
      ],
      "execution_count": 15,
      "outputs": []
    },
    {
      "cell_type": "code",
      "metadata": {
        "colab": {
          "base_uri": "https://localhost:8080/"
        },
        "id": "_YYG9Y3JTgTE",
        "outputId": "5e8e5106-8bb1-4939-9346-12826aa1e380"
      },
      "source": [
        "########## running security model###########\n",
        "X_train, X_test, y_train, y_test = train_test_split(security_x, security_y, test_size = 0.2)\n",
        "#sc = StandardScaler()\n",
        "#X_train = sc.fit_transform(X_train)\n",
        "#X_test = sc.transform(X_test)\n",
        "\n",
        "security_model.compile(optimizer = 'adam',loss = 'mean_squared_error')\n",
        "security_model.fit(X_train, y_train, batch_size = 256, epochs = 10, validation_split=0.2)\n",
        "security_model.compile(optimizer = 'adam',loss = 'mean_absolute_error')\n",
        "security_model.fit(X_train, y_train, batch_size = 256, epochs = 10, validation_split=0.2)\n",
        "\n",
        "y_pred = security_model.predict(X_test)\n",
        "\n",
        "from sklearn.metrics import mean_squared_error\n",
        "rms = mean_squared_error(y_test, y_pred, squared=True)\n",
        "print(rms)\n",
        "\n",
        "# plt.plot(y_test, color = 'red', label = 'Real data')\n",
        "# plt.plot(y_pred, color = 'blue', label = 'Predicted data')\n",
        "# plt.title('Prediction')\n",
        "# plt.legend()\n",
        "# plt.show()"
      ],
      "execution_count": 16,
      "outputs": [
        {
          "output_type": "stream",
          "name": "stdout",
          "text": [
            "Epoch 1/10\n",
            "2500/2500 [==============================] - 11s 4ms/step - loss: 3351.2327 - val_loss: 48.4547\n",
            "Epoch 2/10\n",
            "2500/2500 [==============================] - 9s 4ms/step - loss: 185.6812 - val_loss: 342.4420\n",
            "Epoch 3/10\n",
            "2500/2500 [==============================] - 10s 4ms/step - loss: 95.4192 - val_loss: 3.7440\n",
            "Epoch 4/10\n",
            "2500/2500 [==============================] - 10s 4ms/step - loss: 218.6292 - val_loss: 43.9534\n",
            "Epoch 5/10\n",
            "2500/2500 [==============================] - 10s 4ms/step - loss: 154.7500 - val_loss: 95.0602\n",
            "Epoch 6/10\n",
            "2500/2500 [==============================] - 10s 4ms/step - loss: 21.5553 - val_loss: 810.0585\n",
            "Epoch 7/10\n",
            "2500/2500 [==============================] - 10s 4ms/step - loss: 82.2184 - val_loss: 195.5260\n",
            "Epoch 8/10\n",
            "2500/2500 [==============================] - 9s 4ms/step - loss: 9.5455 - val_loss: 0.3982\n",
            "Epoch 9/10\n",
            "2500/2500 [==============================] - 10s 4ms/step - loss: 21.9919 - val_loss: 0.3378\n",
            "Epoch 10/10\n",
            "2500/2500 [==============================] - 10s 4ms/step - loss: 20.6216 - val_loss: 0.2353\n",
            "Epoch 1/10\n",
            "2500/2500 [==============================] - 11s 4ms/step - loss: 1.5819 - val_loss: 2.5296\n",
            "Epoch 2/10\n",
            "2500/2500 [==============================] - 10s 4ms/step - loss: 1.3057 - val_loss: 0.8575\n",
            "Epoch 3/10\n",
            "2500/2500 [==============================] - 9s 4ms/step - loss: 1.2019 - val_loss: 0.8856\n",
            "Epoch 4/10\n",
            "2500/2500 [==============================] - 10s 4ms/step - loss: 1.0894 - val_loss: 1.3024\n",
            "Epoch 5/10\n",
            "2500/2500 [==============================] - 10s 4ms/step - loss: 1.0684 - val_loss: 1.3729\n",
            "Epoch 6/10\n",
            "2500/2500 [==============================] - 9s 4ms/step - loss: 0.9241 - val_loss: 1.2266\n",
            "Epoch 7/10\n",
            "2500/2500 [==============================] - 10s 4ms/step - loss: 0.9558 - val_loss: 0.4870\n",
            "Epoch 8/10\n",
            "2500/2500 [==============================] - 9s 4ms/step - loss: 0.8830 - val_loss: 1.1442\n",
            "Epoch 9/10\n",
            "2500/2500 [==============================] - 10s 4ms/step - loss: 0.8160 - val_loss: 0.7652\n",
            "Epoch 10/10\n",
            "2500/2500 [==============================] - 10s 4ms/step - loss: 0.8334 - val_loss: 1.0603\n",
            "2.3843918201375853\n"
          ]
        }
      ]
    },
    {
      "cell_type": "code",
      "metadata": {
        "colab": {
          "base_uri": "https://localhost:8080/"
        },
        "id": "F51MH8WbzJT0",
        "outputId": "063b739c-81a2-4ad0-873e-8834edce0ea3"
      },
      "source": [
        "y_pred = security_model.predict([[40.639801, -73.7789, 3, 6, 2]])\n",
        "print(\"180\")\n",
        "print(y_pred)\n",
        "\n",
        "y_pred = security_model.predict([[-33.94609833, 151.177002, 6, 11, 1]])\n",
        "print(\"390\")\n",
        "print(y_pred)\n",
        "\n",
        "y_pred = security_model.predict([[49.1939016, -123.1839981, 3, 26, 6]])\n",
        "print(\"60\")\n",
        "print(y_pred)"
      ],
      "execution_count": 97,
      "outputs": [
        {
          "output_type": "stream",
          "name": "stdout",
          "text": [
            "180\n",
            "[[179.25629]]\n",
            "390\n",
            "[[385.50934]]\n",
            "60\n",
            "[[58.922]]\n"
          ]
        }
      ]
    },
    {
      "cell_type": "code",
      "metadata": {
        "colab": {
          "base_uri": "https://localhost:8080/"
        },
        "id": "nwZjWtyJTqX1",
        "outputId": "fbc6491c-9427-43d7-a50f-9461e3758497"
      },
      "source": [
        "########## running bus model ############\n",
        "X_train, X_test, y_train, y_test = train_test_split(bus_x, bus_y, test_size = 0.2)\n",
        "\n",
        "bus_model.compile(optimizer = 'adam',loss = 'mean_squared_error')\n",
        "bus_model.fit(X_train, y_train, batch_size = 256, epochs = 10, validation_split=0.2)\n",
        "bus_model.compile(optimizer = 'adam',loss = 'mean_absolute_error')\n",
        "bus_model.fit(X_train, y_train, batch_size = 256, epochs = 10, validation_split=0.2)\n",
        "\n",
        "y_pred = bus_model.predict(X_test)\n",
        "\n",
        "from sklearn.metrics import mean_squared_error\n",
        "rms = mean_squared_error(y_test, y_pred, squared=True)\n",
        "print(rms)\n",
        "\n",
        "# plt.plot(y_test, color = 'red', label = 'Real data')\n",
        "# plt.plot(y_pred, color = 'blue', label = 'Predicted data')\n",
        "# plt.title('Prediction')\n",
        "# plt.legend()\n",
        "# plt.show()"
      ],
      "execution_count": 17,
      "outputs": [
        {
          "output_type": "stream",
          "name": "stdout",
          "text": [
            "Epoch 1/10\n",
            "938/938 [==============================] - 4s 4ms/step - loss: 5362.1504 - val_loss: 867.3826\n",
            "Epoch 2/10\n",
            "938/938 [==============================] - 4s 4ms/step - loss: 362.5728 - val_loss: 39.3384\n",
            "Epoch 3/10\n",
            "938/938 [==============================] - 4s 4ms/step - loss: 20.3295 - val_loss: 7.8012\n",
            "Epoch 4/10\n",
            "938/938 [==============================] - 4s 4ms/step - loss: 3.5311 - val_loss: 5.1053\n",
            "Epoch 5/10\n",
            "938/938 [==============================] - 4s 4ms/step - loss: 663.6627 - val_loss: 259.1707\n",
            "Epoch 6/10\n",
            "938/938 [==============================] - 4s 4ms/step - loss: 105.1901 - val_loss: 46.1137\n",
            "Epoch 7/10\n",
            "938/938 [==============================] - 4s 4ms/step - loss: 27.0148 - val_loss: 17.8398\n",
            "Epoch 8/10\n",
            "938/938 [==============================] - 4s 4ms/step - loss: 809.8209 - val_loss: 503.6117\n",
            "Epoch 9/10\n",
            "938/938 [==============================] - 4s 4ms/step - loss: 298.5426 - val_loss: 225.5573\n",
            "Epoch 10/10\n",
            "938/938 [==============================] - 4s 4ms/step - loss: 158.6162 - val_loss: 84.4787\n",
            "Epoch 1/10\n",
            "938/938 [==============================] - 5s 4ms/step - loss: 3.1228 - val_loss: 1.6978\n",
            "Epoch 2/10\n",
            "938/938 [==============================] - 4s 4ms/step - loss: 1.6970 - val_loss: 2.0947\n",
            "Epoch 3/10\n",
            "938/938 [==============================] - 4s 4ms/step - loss: 1.6862 - val_loss: 1.2588\n",
            "Epoch 4/10\n",
            "938/938 [==============================] - 4s 4ms/step - loss: 2.1703 - val_loss: 1.3834\n",
            "Epoch 5/10\n",
            "938/938 [==============================] - 4s 4ms/step - loss: 1.6569 - val_loss: 0.7554\n",
            "Epoch 6/10\n",
            "938/938 [==============================] - 4s 4ms/step - loss: 1.2249 - val_loss: 1.0403\n",
            "Epoch 7/10\n",
            "938/938 [==============================] - 4s 4ms/step - loss: 1.4047 - val_loss: 1.2789\n",
            "Epoch 8/10\n",
            "938/938 [==============================] - 4s 4ms/step - loss: 1.2362 - val_loss: 0.8260\n",
            "Epoch 9/10\n",
            "938/938 [==============================] - 4s 4ms/step - loss: 1.2544 - val_loss: 0.7180\n",
            "Epoch 10/10\n",
            "938/938 [==============================] - 4s 4ms/step - loss: 1.1178 - val_loss: 0.5336\n",
            "1.1581054800160893\n"
          ]
        }
      ]
    },
    {
      "cell_type": "code",
      "metadata": {
        "colab": {
          "base_uri": "https://localhost:8080/"
        },
        "id": "Uc_rwqwWgKip",
        "outputId": "52a582cd-d76f-4fdc-c94b-1677468ea4ea"
      },
      "source": [
        "y_pred = bus_model.predict([[40.639801, -73.7789, 3, 6, 2]])\n",
        "print(\"188\")\n",
        "print(y_pred)\n",
        "\n",
        "y_pred = bus_model.predict([[51.4706, -0.461941, 5, 25, 12]])\n",
        "print(\"242\")\n",
        "print(y_pred)\n",
        "\n",
        "y_pred = bus_model.predict([[45.47060013, -73.74079895, 7, 10, 1]])\n",
        "print(\"68\")\n",
        "print(y_pred)"
      ],
      "execution_count": 10,
      "outputs": [
        {
          "output_type": "stream",
          "name": "stdout",
          "text": [
            "188\n",
            "[[187.9672]]\n",
            "242\n",
            "[[244.37196]]\n",
            "68\n",
            "[[68.27237]]\n"
          ]
        }
      ]
    },
    {
      "cell_type": "code",
      "metadata": {
        "colab": {
          "base_uri": "https://localhost:8080/"
        },
        "id": "xnwvUsFNTgkt",
        "outputId": "26ef2230-83ee-4394-b5b4-2fe2894424f0"
      },
      "source": [
        "############### running walk model ##############\n",
        "X_train, X_test, y_train, y_test = train_test_split(walk_x, walk_y, test_size = 0.2)\n",
        "\n",
        "walk_model.compile(optimizer = 'adam',loss = 'mean_squared_error')\n",
        "walk_model.fit(X_train, y_train, batch_size = 256, epochs = 10, validation_split=0.2)\n",
        "walk_model.compile(optimizer = 'adam',loss = 'mean_absolute_error')\n",
        "walk_model.fit(X_train, y_train, batch_size = 256, epochs = 20, validation_split=0.2)\n",
        "\n",
        "y_pred = walk_model.predict(X_test)\n",
        "\n",
        "from sklearn.metrics import mean_squared_error\n",
        "rms = mean_squared_error(y_test, y_pred, squared=True)\n",
        "print(rms)\n",
        "\n",
        "# plt.plot(y_test, color = 'red', label = 'Real data')\n",
        "# plt.plot(y_pred, color = 'blue', label = 'Predicted data')\n",
        "# plt.title('Prediction')\n",
        "# plt.legend()\n",
        "# plt.show()"
      ],
      "execution_count": 12,
      "outputs": [
        {
          "output_type": "stream",
          "name": "stdout",
          "text": [
            "Epoch 1/10\n",
            "1563/1563 [==============================] - 7s 4ms/step - loss: 6256.4307 - val_loss: 995.0012\n",
            "Epoch 2/10\n",
            "1563/1563 [==============================] - 6s 4ms/step - loss: 197.0310 - val_loss: 98.7861\n",
            "Epoch 3/10\n",
            "1563/1563 [==============================] - 6s 4ms/step - loss: 98.7787 - val_loss: 18.6435\n",
            "Epoch 4/10\n",
            "1563/1563 [==============================] - 6s 4ms/step - loss: 9.6314 - val_loss: 43.6451\n",
            "Epoch 5/10\n",
            "1563/1563 [==============================] - 6s 4ms/step - loss: 272.6393 - val_loss: 530.7740\n",
            "Epoch 6/10\n",
            "1563/1563 [==============================] - 6s 4ms/step - loss: 86.1480 - val_loss: 22.9389\n",
            "Epoch 7/10\n",
            "1563/1563 [==============================] - 6s 4ms/step - loss: 65.1547 - val_loss: 6.7934\n",
            "Epoch 8/10\n",
            "1563/1563 [==============================] - 6s 4ms/step - loss: 5.9826 - val_loss: 18.7069\n",
            "Epoch 9/10\n",
            "1563/1563 [==============================] - 6s 4ms/step - loss: 7.4588 - val_loss: 35.6380\n",
            "Epoch 10/10\n",
            "1563/1563 [==============================] - 6s 4ms/step - loss: 205.7968 - val_loss: 5202.6284\n",
            "Epoch 1/20\n",
            "1563/1563 [==============================] - 7s 4ms/step - loss: 16.5442 - val_loss: 10.5775\n",
            "Epoch 2/20\n",
            "1563/1563 [==============================] - 6s 4ms/step - loss: 3.4725 - val_loss: 5.0935\n",
            "Epoch 3/20\n",
            "1563/1563 [==============================] - 6s 4ms/step - loss: 2.6399 - val_loss: 3.1194\n",
            "Epoch 4/20\n",
            "1563/1563 [==============================] - 6s 4ms/step - loss: 2.5486 - val_loss: 2.0234\n",
            "Epoch 5/20\n",
            "1563/1563 [==============================] - 6s 4ms/step - loss: 2.4443 - val_loss: 3.4158\n",
            "Epoch 6/20\n",
            "1563/1563 [==============================] - 6s 4ms/step - loss: 2.4600 - val_loss: 4.7324\n",
            "Epoch 7/20\n",
            "1563/1563 [==============================] - 6s 4ms/step - loss: 2.3650 - val_loss: 3.7513\n",
            "Epoch 8/20\n",
            "1563/1563 [==============================] - 6s 4ms/step - loss: 2.3200 - val_loss: 2.9667\n",
            "Epoch 9/20\n",
            "1563/1563 [==============================] - 6s 4ms/step - loss: 2.2642 - val_loss: 2.3396\n",
            "Epoch 10/20\n",
            "1563/1563 [==============================] - 6s 4ms/step - loss: 2.1801 - val_loss: 3.9034\n",
            "Epoch 11/20\n",
            "1563/1563 [==============================] - 6s 4ms/step - loss: 2.2149 - val_loss: 7.9541\n",
            "Epoch 12/20\n",
            "1563/1563 [==============================] - 6s 4ms/step - loss: 2.3228 - val_loss: 3.7120\n",
            "Epoch 13/20\n",
            "1563/1563 [==============================] - 6s 4ms/step - loss: 2.1542 - val_loss: 3.3692\n",
            "Epoch 14/20\n",
            "1563/1563 [==============================] - 6s 4ms/step - loss: 2.1451 - val_loss: 2.3461\n",
            "Epoch 15/20\n",
            "1563/1563 [==============================] - 6s 4ms/step - loss: 2.1195 - val_loss: 2.9592\n",
            "Epoch 16/20\n",
            "1563/1563 [==============================] - 6s 4ms/step - loss: 2.5587 - val_loss: 6.0281\n",
            "Epoch 17/20\n",
            "1563/1563 [==============================] - 6s 4ms/step - loss: 3.5050 - val_loss: 2.6967\n",
            "Epoch 18/20\n",
            "1563/1563 [==============================] - 6s 4ms/step - loss: 2.1061 - val_loss: 1.7640\n",
            "Epoch 19/20\n",
            "1563/1563 [==============================] - 6s 4ms/step - loss: 2.0774 - val_loss: 2.5675\n",
            "Epoch 20/20\n",
            "1563/1563 [==============================] - 6s 4ms/step - loss: 2.0454 - val_loss: 3.5968\n"
          ]
        }
      ]
    },
    {
      "cell_type": "code",
      "metadata": {
        "colab": {
          "base_uri": "https://localhost:8080/"
        },
        "id": "Bm9rku-ukLZ1",
        "outputId": "d87a4a2a-c779-4b26-9d54-9e3063b5a088"
      },
      "source": [
        "y_pred = walk_model.predict([[53.35369873, -2.274950027, 7, 29, 11]])\n",
        "print(\"196\")\n",
        "print(y_pred)\n",
        "\n",
        "y_pred = walk_model.predict([[-33.94609833, 151.177002, 6, 11, 1]])\n",
        "print(\"212\")\n",
        "print(y_pred)\n",
        "\n",
        "y_pred = walk_model.predict([[49.1939016, -123.1839981, 3, 26, 6]])\n",
        "print(\"115\")\n",
        "print(y_pred)"
      ],
      "execution_count": 13,
      "outputs": [
        {
          "output_type": "stream",
          "name": "stdout",
          "text": [
            "196\n",
            "[[195.67451]]\n",
            "212\n",
            "[[396.4279]]\n",
            "115\n",
            "[[114.66048]]\n"
          ]
        }
      ]
    },
    {
      "cell_type": "code",
      "metadata": {
        "colab": {
          "base_uri": "https://localhost:8080/",
          "height": 17
        },
        "id": "8Nm96diJSSuN",
        "outputId": "a766beb3-5e35-499e-ff1c-928d1a3e3003"
      },
      "source": [
        "from google.colab import files\n",
        "security_model.save('securitymodel.h5')\n",
        "files.download('securitymodel.h5')"
      ],
      "execution_count": 102,
      "outputs": [
        {
          "output_type": "display_data",
          "data": {
            "application/javascript": [
              "\n",
              "    async function download(id, filename, size) {\n",
              "      if (!google.colab.kernel.accessAllowed) {\n",
              "        return;\n",
              "      }\n",
              "      const div = document.createElement('div');\n",
              "      const label = document.createElement('label');\n",
              "      label.textContent = `Downloading \"${filename}\": `;\n",
              "      div.appendChild(label);\n",
              "      const progress = document.createElement('progress');\n",
              "      progress.max = size;\n",
              "      div.appendChild(progress);\n",
              "      document.body.appendChild(div);\n",
              "\n",
              "      const buffers = [];\n",
              "      let downloaded = 0;\n",
              "\n",
              "      const channel = await google.colab.kernel.comms.open(id);\n",
              "      // Send a message to notify the kernel that we're ready.\n",
              "      channel.send({})\n",
              "\n",
              "      for await (const message of channel.messages) {\n",
              "        // Send a message to notify the kernel that we're ready.\n",
              "        channel.send({})\n",
              "        if (message.buffers) {\n",
              "          for (const buffer of message.buffers) {\n",
              "            buffers.push(buffer);\n",
              "            downloaded += buffer.byteLength;\n",
              "            progress.value = downloaded;\n",
              "          }\n",
              "        }\n",
              "      }\n",
              "      const blob = new Blob(buffers, {type: 'application/binary'});\n",
              "      const a = document.createElement('a');\n",
              "      a.href = window.URL.createObjectURL(blob);\n",
              "      a.download = filename;\n",
              "      div.appendChild(a);\n",
              "      a.click();\n",
              "      div.remove();\n",
              "    }\n",
              "  "
            ],
            "text/plain": [
              "<IPython.core.display.Javascript object>"
            ]
          },
          "metadata": {}
        },
        {
          "output_type": "display_data",
          "data": {
            "application/javascript": [
              "download(\"download_372e0982-3b9e-4075-ad2e-8f8973f22336\", \"securitymodel.h5\", 229544)"
            ],
            "text/plain": [
              "<IPython.core.display.Javascript object>"
            ]
          },
          "metadata": {}
        }
      ]
    },
    {
      "cell_type": "code",
      "metadata": {
        "colab": {
          "base_uri": "https://localhost:8080/",
          "height": 17
        },
        "id": "lR8z8VRWlP06",
        "outputId": "f2ef146d-ca83-4f17-befe-efe799adf3e5"
      },
      "source": [
        "from google.colab import files\n",
        "bus_model.save('busmodel.h5')\n",
        "files.download('busmodel.h5')"
      ],
      "execution_count": 11,
      "outputs": [
        {
          "output_type": "display_data",
          "data": {
            "application/javascript": [
              "\n",
              "    async function download(id, filename, size) {\n",
              "      if (!google.colab.kernel.accessAllowed) {\n",
              "        return;\n",
              "      }\n",
              "      const div = document.createElement('div');\n",
              "      const label = document.createElement('label');\n",
              "      label.textContent = `Downloading \"${filename}\": `;\n",
              "      div.appendChild(label);\n",
              "      const progress = document.createElement('progress');\n",
              "      progress.max = size;\n",
              "      div.appendChild(progress);\n",
              "      document.body.appendChild(div);\n",
              "\n",
              "      const buffers = [];\n",
              "      let downloaded = 0;\n",
              "\n",
              "      const channel = await google.colab.kernel.comms.open(id);\n",
              "      // Send a message to notify the kernel that we're ready.\n",
              "      channel.send({})\n",
              "\n",
              "      for await (const message of channel.messages) {\n",
              "        // Send a message to notify the kernel that we're ready.\n",
              "        channel.send({})\n",
              "        if (message.buffers) {\n",
              "          for (const buffer of message.buffers) {\n",
              "            buffers.push(buffer);\n",
              "            downloaded += buffer.byteLength;\n",
              "            progress.value = downloaded;\n",
              "          }\n",
              "        }\n",
              "      }\n",
              "      const blob = new Blob(buffers, {type: 'application/binary'});\n",
              "      const a = document.createElement('a');\n",
              "      a.href = window.URL.createObjectURL(blob);\n",
              "      a.download = filename;\n",
              "      div.appendChild(a);\n",
              "      a.click();\n",
              "      div.remove();\n",
              "    }\n",
              "  "
            ],
            "text/plain": [
              "<IPython.core.display.Javascript object>"
            ]
          },
          "metadata": {}
        },
        {
          "output_type": "display_data",
          "data": {
            "application/javascript": [
              "download(\"download_421cc9ba-7b6a-4cd6-b8eb-c47898c3a358\", \"busmodel.h5\", 229544)"
            ],
            "text/plain": [
              "<IPython.core.display.Javascript object>"
            ]
          },
          "metadata": {}
        }
      ]
    },
    {
      "cell_type": "code",
      "metadata": {
        "colab": {
          "base_uri": "https://localhost:8080/",
          "height": 17
        },
        "id": "5zyHLwjCrJVT",
        "outputId": "f583edbe-04ba-4efd-8e8e-5c5e8a1b518e"
      },
      "source": [
        "from google.colab import files\n",
        "walk_model.save('walkmodel.h5')\n",
        "files.download('walkmodel.h5')"
      ],
      "execution_count": 14,
      "outputs": [
        {
          "output_type": "display_data",
          "data": {
            "application/javascript": [
              "\n",
              "    async function download(id, filename, size) {\n",
              "      if (!google.colab.kernel.accessAllowed) {\n",
              "        return;\n",
              "      }\n",
              "      const div = document.createElement('div');\n",
              "      const label = document.createElement('label');\n",
              "      label.textContent = `Downloading \"${filename}\": `;\n",
              "      div.appendChild(label);\n",
              "      const progress = document.createElement('progress');\n",
              "      progress.max = size;\n",
              "      div.appendChild(progress);\n",
              "      document.body.appendChild(div);\n",
              "\n",
              "      const buffers = [];\n",
              "      let downloaded = 0;\n",
              "\n",
              "      const channel = await google.colab.kernel.comms.open(id);\n",
              "      // Send a message to notify the kernel that we're ready.\n",
              "      channel.send({})\n",
              "\n",
              "      for await (const message of channel.messages) {\n",
              "        // Send a message to notify the kernel that we're ready.\n",
              "        channel.send({})\n",
              "        if (message.buffers) {\n",
              "          for (const buffer of message.buffers) {\n",
              "            buffers.push(buffer);\n",
              "            downloaded += buffer.byteLength;\n",
              "            progress.value = downloaded;\n",
              "          }\n",
              "        }\n",
              "      }\n",
              "      const blob = new Blob(buffers, {type: 'application/binary'});\n",
              "      const a = document.createElement('a');\n",
              "      a.href = window.URL.createObjectURL(blob);\n",
              "      a.download = filename;\n",
              "      div.appendChild(a);\n",
              "      a.click();\n",
              "      div.remove();\n",
              "    }\n",
              "  "
            ],
            "text/plain": [
              "<IPython.core.display.Javascript object>"
            ]
          },
          "metadata": {}
        },
        {
          "output_type": "display_data",
          "data": {
            "application/javascript": [
              "download(\"download_965d12b3-783c-4d7e-9365-5db62ed41164\", \"walkmodel.h5\", 229544)"
            ],
            "text/plain": [
              "<IPython.core.display.Javascript object>"
            ]
          },
          "metadata": {}
        }
      ]
    }
  ]
}