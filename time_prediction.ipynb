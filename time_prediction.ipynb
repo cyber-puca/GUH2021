{
  "nbformat": 4,
  "nbformat_minor": 0,
  "metadata": {
    "colab": {
      "name": "time_prediction.ipynb",
      "provenance": [],
      "collapsed_sections": [],
      "toc_visible": true,
      "include_colab_link": true
    },
    "kernelspec": {
      "name": "python3",
      "display_name": "Python 3"
    },
    "language_info": {
      "name": "python"
    }
  },
  "cells": [
    {
      "cell_type": "markdown",
      "metadata": {
        "id": "view-in-github",
        "colab_type": "text"
      },
      "source": [
        "<a href=\"https://colab.research.google.com/github/cyber-puca/GUH2021/blob/main/time_prediction.ipynb\" target=\"_parent\"><img src=\"https://colab.research.google.com/assets/colab-badge.svg\" alt=\"Open In Colab\"/></a>"
      ]
    },
    {
      "cell_type": "code",
      "metadata": {
        "id": "uAoET601nHdz"
      },
      "source": [
        "import tensorflow as tf\n",
        "import pandas as pd\n",
        "import csv\n",
        "import numpy as np\n",
        "from keras.layers import Dense, Activation\n",
        "from keras.models import Sequential\n",
        "from sklearn.model_selection import train_test_split\n",
        "from sklearn.preprocessing import StandardScaler\n",
        "import matplotlib.pyplot as plt\n",
        "\n",
        "data = pd.read_csv('drive/MyDrive/car_rental_huge.csv')\n",
        "data = data.drop(columns = ['Unnamed: 0', 'Booking Number', 'Price', 'Origin Lat', 'Origin Lon', 'Haul', 'Hour', 'Year'])\n",
        "security_data = data.drop(columns=['Transport', 'Time Taken', 'Distance'])\n",
        "bus_data = data[data['Transport']==1]\n",
        "bus_data = bus_data.drop(columns='Transport')\n",
        "walk_data = data[data['Transport']==0]\n",
        "walk_data = walk_data.drop(columns='Transport')\n",
        "\n",
        "security_x = []\n",
        "security_y = []\n",
        "for idx, rows in security_data.iterrows():\n",
        "  vals = [rows['Dest Lat'], rows['Dest Lon'], rows['Day'], rows['Date'], rows['Month']]\n",
        "  security_x.append(vals)\n",
        "  security_y.append(rows['Wait'])\n",
        "security_x = np.array(security_x)\n",
        "security_y = np.array(security_y)\n",
        "\n",
        "bus_x = []\n",
        "bus_y = []\n",
        "for idx, rows in bus_data.iterrows():\n",
        "  vals = [rows['Dest Lat'], rows['Dest Lon'], rows['Day'], rows['Date'], rows['Month'], rows['Distance']]\n",
        "  bus_x.append(vals)\n",
        "  bus_y.append(rows['Wait'])\n",
        "bus_x = np.array(bus_x)\n",
        "bus_y = np.array(bus_y)\n",
        "\n",
        "walk_x = []\n",
        "walk_y = []\n",
        "for idx, rows in walk_data.iterrows():\n",
        "  vals = [rows['Dest Lat'], rows['Dest Lon'], rows['Day'], rows['Date'], rows['Month'], rows['Distance']]\n",
        "  walk_x.append(vals)\n",
        "  walk_y.append(rows['Wait'])\n",
        "walk_x = np.array(walk_x)\n",
        "walk_y = np.array(walk_y)"
      ],
      "execution_count": 94,
      "outputs": []
    },
    {
      "cell_type": "code",
      "metadata": {
        "colab": {
          "base_uri": "https://localhost:8080/"
        },
        "id": "WtuGtAOLOUiW",
        "outputId": "8dba12ae-568e-4ae4-cb51-ebec1709baed"
      },
      "source": [
        "from google.colab import drive\n",
        "drive.mount('/content/drive')"
      ],
      "execution_count": 3,
      "outputs": [
        {
          "output_type": "stream",
          "name": "stdout",
          "text": [
            "Mounted at /content/drive\n"
          ]
        }
      ]
    },
    {
      "cell_type": "code",
      "metadata": {
        "colab": {
          "base_uri": "https://localhost:8080/"
        },
        "id": "yt4CFG0zcwhX",
        "outputId": "1813092a-fa70-443f-c68d-0b26ae0f3b29"
      },
      "source": [
        "security_x.shape"
      ],
      "execution_count": 5,
      "outputs": [
        {
          "output_type": "execute_result",
          "data": {
            "text/plain": [
              "(1000000, 7)"
            ]
          },
          "metadata": {},
          "execution_count": 5
        }
      ]
    },
    {
      "cell_type": "code",
      "metadata": {
        "colab": {
          "base_uri": "https://localhost:8080/"
        },
        "id": "-fnT7wdHd7DZ",
        "outputId": "135ecead-3af1-4fb9-8aab-d5e872814ee6"
      },
      "source": [
        "walk_x.shape"
      ],
      "execution_count": 6,
      "outputs": [
        {
          "output_type": "execute_result",
          "data": {
            "text/plain": [
              "(624810, 8)"
            ]
          },
          "metadata": {},
          "execution_count": 6
        }
      ]
    },
    {
      "cell_type": "code",
      "metadata": {
        "colab": {
          "base_uri": "https://localhost:8080/"
        },
        "id": "aUnQzODrd3UA",
        "outputId": "f8049d0a-c0fd-46d0-b305-f4caf123f9b6"
      },
      "source": [
        "bus_x.shape"
      ],
      "execution_count": 15,
      "outputs": [
        {
          "output_type": "execute_result",
          "data": {
            "text/plain": [
              "(375190, 8)"
            ]
          },
          "metadata": {},
          "execution_count": 15
        }
      ]
    },
    {
      "cell_type": "code",
      "metadata": {
        "id": "RJv_oaKnb2yf"
      },
      "source": [
        "############ defining the models ############\n",
        "security_model = Sequential()\n",
        "bus_model = Sequential()\n",
        "walk_model = Sequential()\n",
        "\n",
        "# Adding the input layer and the first hidden layer\n",
        "security_model.add(Dense(20, activation = 'relu', input_dim = 5))\n",
        "bus_model.add(Dense(20, activation = 'relu', input_dim = 6))\n",
        "walk_model.add(Dense(20, activation = 'relu', input_dim = 6))\n",
        "\n",
        "neurons = 32\n",
        "\n",
        "for i in range(10):\n",
        "  # Adding a hidden layer\n",
        "  security_model.add(Dense(units = neurons, activation = 'relu'))\n",
        "  bus_model.add(Dense(units = neurons, activation = 'relu'))\n",
        "  walk_model.add(Dense(units = neurons, activation = 'relu'))\n",
        "\n",
        "# Adding the output layer\n",
        "security_model.add(Dense(units = 1))\n",
        "bus_model.add(Dense(units = 1))\n",
        "walk_model.add(Dense(units = 1))"
      ],
      "execution_count": 105,
      "outputs": []
    },
    {
      "cell_type": "code",
      "metadata": {
        "colab": {
          "base_uri": "https://localhost:8080/",
          "height": 970
        },
        "id": "_YYG9Y3JTgTE",
        "outputId": "79497953-6aba-4782-dc8c-c618ba27c5c1"
      },
      "source": [
        "########## running security model###########\n",
        "X_train, X_test, y_train, y_test = train_test_split(security_x, security_y, test_size = 0.2)\n",
        "#sc = StandardScaler()\n",
        "#X_train = sc.fit_transform(X_train)\n",
        "#X_test = sc.transform(X_test)\n",
        "\n",
        "security_model.compile(optimizer = 'adam',loss = 'mean_squared_error')\n",
        "security_model.fit(X_train, y_train, batch_size = 256, epochs = 10, validation_split=0.2)\n",
        "security_model.compile(optimizer = 'adam',loss = 'mean_absolute_error')\n",
        "security_model.fit(X_train, y_train, batch_size = 256, epochs = 10, validation_split=0.2)\n",
        "\n",
        "y_pred = security_model.predict(X_test)\n",
        "\n",
        "from sklearn.metrics import mean_squared_error\n",
        "rms = mean_squared_error(y_test, y_pred, squared=True)\n",
        "print(rms)\n",
        "\n",
        "plt.plot(y_test, color = 'red', label = 'Real data')\n",
        "plt.plot(y_pred, color = 'blue', label = 'Predicted data')\n",
        "plt.title('Prediction')\n",
        "plt.legend()\n",
        "plt.show()"
      ],
      "execution_count": 96,
      "outputs": [
        {
          "output_type": "stream",
          "name": "stdout",
          "text": [
            "Epoch 1/10\n",
            "2500/2500 [==============================] - 13s 5ms/step - loss: 3344.5847 - val_loss: 697.3657\n",
            "Epoch 2/10\n",
            "2500/2500 [==============================] - 11s 5ms/step - loss: 286.3799 - val_loss: 3.7402\n",
            "Epoch 3/10\n",
            "2500/2500 [==============================] - 11s 4ms/step - loss: 916.3831 - val_loss: 30.2675\n",
            "Epoch 4/10\n",
            "2500/2500 [==============================] - 11s 4ms/step - loss: 281.4917 - val_loss: 3.3975\n",
            "Epoch 5/10\n",
            "2500/2500 [==============================] - 11s 4ms/step - loss: 118.6782 - val_loss: 8795.0068\n",
            "Epoch 6/10\n",
            "2500/2500 [==============================] - 12s 5ms/step - loss: 1087.6385 - val_loss: 454.6656\n",
            "Epoch 7/10\n",
            "2500/2500 [==============================] - 11s 5ms/step - loss: 311.5517 - val_loss: 222.7062\n",
            "Epoch 8/10\n",
            "2500/2500 [==============================] - 11s 4ms/step - loss: 103.1864 - val_loss: 0.6885\n",
            "Epoch 9/10\n",
            "2500/2500 [==============================] - 11s 4ms/step - loss: 104.4978 - val_loss: 1.1212\n",
            "Epoch 10/10\n",
            "2500/2500 [==============================] - 11s 5ms/step - loss: 31.7838 - val_loss: 0.8795\n",
            "Epoch 1/10\n",
            "2500/2500 [==============================] - 12s 5ms/step - loss: 2.2580 - val_loss: 2.3287\n",
            "Epoch 2/10\n",
            "2500/2500 [==============================] - 12s 5ms/step - loss: 1.7164 - val_loss: 1.2445\n",
            "Epoch 3/10\n",
            "2500/2500 [==============================] - 11s 4ms/step - loss: 1.4276 - val_loss: 1.5126\n",
            "Epoch 4/10\n",
            "2500/2500 [==============================] - 11s 4ms/step - loss: 1.2383 - val_loss: 1.1146\n",
            "Epoch 5/10\n",
            "2500/2500 [==============================] - 11s 4ms/step - loss: 1.1378 - val_loss: 1.2735\n",
            "Epoch 6/10\n",
            "2500/2500 [==============================] - 11s 5ms/step - loss: 1.1336 - val_loss: 1.4893\n",
            "Epoch 7/10\n",
            "2500/2500 [==============================] - 11s 4ms/step - loss: 1.0783 - val_loss: 1.0435\n",
            "Epoch 8/10\n",
            "2500/2500 [==============================] - 11s 4ms/step - loss: 1.0315 - val_loss: 1.8934\n",
            "Epoch 9/10\n",
            "2500/2500 [==============================] - 11s 4ms/step - loss: 0.9773 - val_loss: 1.3180\n",
            "Epoch 10/10\n",
            "2500/2500 [==============================] - 11s 4ms/step - loss: 0.9655 - val_loss: 1.2527\n",
            "3.199109357424144\n"
          ]
        },
        {
          "output_type": "display_data",
          "data": {
            "image/png": "[encoded data removed]",
            "text/plain": [
              "<Figure size 432x288 with 1 Axes>"
            ]
          },
          "metadata": {
            "needs_background": "light"
          }
        }
      ]
    },
    {
      "cell_type": "code",
      "metadata": {
        "colab": {
          "base_uri": "https://localhost:8080/"
        },
        "id": "F51MH8WbzJT0",
        "outputId": "063b739c-81a2-4ad0-873e-8834edce0ea3"
      },
      "source": [
        "y_pred = security_model.predict([[40.639801, -73.7789, 3, 6, 2]])\n",
        "print(\"180\")\n",
        "print(y_pred)\n",
        "\n",
        "y_pred = security_model.predict([[-33.94609833, 151.177002, 6, 11, 1]])\n",
        "print(\"390\")\n",
        "print(y_pred)\n",
        "\n",
        "y_pred = security_model.predict([[49.1939016, -123.1839981, 3, 26, 6]])\n",
        "print(\"60\")\n",
        "print(y_pred)"
      ],
      "execution_count": 97,
      "outputs": [
        {
          "output_type": "stream",
          "name": "stdout",
          "text": [
            "180\n",
            "[[179.25629]]\n",
            "390\n",
            "[[385.50934]]\n",
            "60\n",
            "[[58.922]]\n"
          ]
        }
      ]
    },
    {
      "cell_type": "code",
      "metadata": {
        "colab": {
          "base_uri": "https://localhost:8080/",
          "height": 970
        },
        "id": "nwZjWtyJTqX1",
        "outputId": "4fb0ef8a-49a2-4f51-ff0e-10e97b1fa81b"
      },
      "source": [
        "########## running bus model ############\n",
        "X_train, X_test, y_train, y_test = train_test_split(bus_x, bus_y, test_size = 0.2)\n",
        "\n",
        "bus_model.compile(optimizer = 'adam',loss = 'mean_squared_error')\n",
        "bus_model.fit(X_train, y_train, batch_size = 256, epochs = 10, validation_split=0.2)\n",
        "bus_model.compile(optimizer = 'adam',loss = 'mean_absolute_error')\n",
        "bus_model.fit(X_train, y_train, batch_size = 256, epochs = 10, validation_split=0.2)\n",
        "\n",
        "y_pred = bus_model.predict(X_test)\n",
        "\n",
        "from sklearn.metrics import mean_squared_error\n",
        "rms = mean_squared_error(y_test, y_pred, squared=True)\n",
        "print(rms)\n",
        "\n",
        "plt.plot(y_test, color = 'red', label = 'Real data')\n",
        "plt.plot(y_pred, color = 'blue', label = 'Predicted data')\n",
        "plt.title('Prediction')\n",
        "plt.legend()\n",
        "plt.show()"
      ],
      "execution_count": 98,
      "outputs": [
        {
          "output_type": "stream",
          "name": "stdout",
          "text": [
            "Epoch 1/10\n",
            "938/938 [==============================] - 6s 5ms/step - loss: 10815.3281 - val_loss: 8504.4336\n",
            "Epoch 2/10\n",
            "938/938 [==============================] - 5s 5ms/step - loss: 8321.5801 - val_loss: 7861.8345\n",
            "Epoch 3/10\n",
            "938/938 [==============================] - 4s 4ms/step - loss: 8159.5283 - val_loss: 7786.9609\n",
            "Epoch 4/10\n",
            "938/938 [==============================] - 4s 5ms/step - loss: 7974.4702 - val_loss: 9163.1982\n",
            "Epoch 5/10\n",
            "938/938 [==============================] - 4s 5ms/step - loss: 7883.3140 - val_loss: 7648.9722\n",
            "Epoch 6/10\n",
            "938/938 [==============================] - 4s 5ms/step - loss: 7573.3687 - val_loss: 7684.8179\n",
            "Epoch 7/10\n",
            "938/938 [==============================] - 4s 4ms/step - loss: 7099.6743 - val_loss: 7336.2939\n",
            "Epoch 8/10\n",
            "938/938 [==============================] - 4s 5ms/step - loss: 6767.0034 - val_loss: 6955.5908\n",
            "Epoch 9/10\n",
            "938/938 [==============================] - 4s 5ms/step - loss: 6771.1138 - val_loss: 9096.0146\n",
            "Epoch 10/10\n",
            "938/938 [==============================] - 4s 5ms/step - loss: 5151.4004 - val_loss: 1065.7837\n",
            "Epoch 1/10\n",
            "938/938 [==============================] - 5s 5ms/step - loss: 40.4795 - val_loss: 35.3792\n",
            "Epoch 2/10\n",
            "938/938 [==============================] - 4s 5ms/step - loss: 32.6609 - val_loss: 33.2728\n",
            "Epoch 3/10\n",
            "938/938 [==============================] - 4s 5ms/step - loss: 22.2898 - val_loss: 12.3924\n",
            "Epoch 4/10\n",
            "938/938 [==============================] - 4s 5ms/step - loss: 15.9918 - val_loss: 9.2728\n",
            "Epoch 5/10\n",
            "938/938 [==============================] - 4s 5ms/step - loss: 12.4221 - val_loss: 11.9555\n",
            "Epoch 6/10\n",
            "938/938 [==============================] - 5s 5ms/step - loss: 34.8904 - val_loss: 48.2789\n",
            "Epoch 7/10\n",
            "938/938 [==============================] - 5s 5ms/step - loss: 39.5715 - val_loss: 37.9464\n",
            "Epoch 8/10\n",
            "938/938 [==============================] - 5s 5ms/step - loss: 39.7285 - val_loss: 44.9627\n",
            "Epoch 9/10\n",
            "938/938 [==============================] - 4s 5ms/step - loss: 33.0371 - val_loss: 16.1094\n",
            "Epoch 10/10\n",
            "938/938 [==============================] - 5s 5ms/step - loss: 22.5034 - val_loss: 11.8715\n",
            "581.9590252580691\n"
          ]
        },
        {
          "output_type": "display_data",
          "data": {
            "image/png": "[encoded data removed]",
            "text/plain": [
              "<Figure size 432x288 with 1 Axes>"
            ]
          },
          "metadata": {
            "needs_background": "light"
          }
        }
      ]
    },
    {
      "cell_type": "code",
      "metadata": {
        "colab": {
          "base_uri": "https://localhost:8080/"
        },
        "id": "Uc_rwqwWgKip",
        "outputId": "d6499557-f713-4617-c47f-622f0dc23fb1"
      },
      "source": [
        "y_pred = bus_model.predict([[40.639801, -73.7789, 3, 6, 2, 2500]])\n",
        "print(\"188\")\n",
        "print(y_pred)\n",
        "\n",
        "y_pred = bus_model.predict([[51.4706, -0.461941, 5, 25, 12, 800]])\n",
        "print(\"242\")\n",
        "print(y_pred)\n",
        "\n",
        "y_pred = bus_model.predict([[45.47060013, -73.74079895, 7, 10, 1, 2500]])\n",
        "print(\"68\")\n",
        "print(y_pred)"
      ],
      "execution_count": 99,
      "outputs": [
        {
          "output_type": "stream",
          "name": "stdout",
          "text": [
            "188\n",
            "[[183.05087]]\n",
            "242\n",
            "[[249.52728]]\n",
            "68\n",
            "[[47.932243]]\n"
          ]
        }
      ]
    },
    {
      "cell_type": "code",
      "metadata": {
        "colab": {
          "base_uri": "https://localhost:8080/"
        },
        "id": "xnwvUsFNTgkt",
        "outputId": "b1b5b09f-0975-47aa-c683-54fa9f8173c1"
      },
      "source": [
        "############### running walk model ##############\n",
        "X_train, X_test, y_train, y_test = train_test_split(walk_x, walk_y, test_size = 0.2)\n",
        "\n",
        "walk_model.compile(optimizer = 'adam',loss = 'mean_squared_error')\n",
        "walk_model.fit(X_train, y_train, batch_size = 256, epochs = 10, validation_split=0.2)\n",
        "walk_model.compile(optimizer = 'adam',loss = 'mean_absolute_error')\n",
        "walk_model.fit(X_train, y_train, batch_size = 256, epochs = 20, validation_split=0.2)\n",
        "\n",
        "y_pred = walk_model.predict(X_test)\n",
        "\n",
        "# from sklearn.metrics import mean_squared_error\n",
        "# rms = mean_squared_error(y_test, y_pred, squared=True)\n",
        "# print(rms)\n",
        "\n",
        "# plt.plot(y_test, color = 'red', label = 'Real data')\n",
        "# plt.plot(y_pred, color = 'blue', label = 'Predicted data')\n",
        "# plt.title('Prediction')\n",
        "# plt.legend()\n",
        "# plt.show()"
      ],
      "execution_count": 108,
      "outputs": [
        {
          "output_type": "stream",
          "name": "stdout",
          "text": [
            "Epoch 1/10\n",
            "1563/1563 [==============================] - 8s 5ms/step - loss: 6062.2139 - val_loss: 5477.1265\n",
            "Epoch 2/10\n",
            "1563/1563 [==============================] - 7s 4ms/step - loss: 5461.3511 - val_loss: 5662.9424\n",
            "Epoch 3/10\n",
            "1563/1563 [==============================] - 7s 4ms/step - loss: 4619.7070 - val_loss: 5750.2510\n",
            "Epoch 4/10\n",
            "1563/1563 [==============================] - 7s 4ms/step - loss: 4289.6245 - val_loss: 5014.9722\n",
            "Epoch 5/10\n",
            "1563/1563 [==============================] - 7s 4ms/step - loss: 3874.3503 - val_loss: 9793.1387\n",
            "Epoch 6/10\n",
            "1563/1563 [==============================] - 7s 4ms/step - loss: 3286.1309 - val_loss: 6567.0801\n",
            "Epoch 7/10\n",
            "1563/1563 [==============================] - 7s 4ms/step - loss: 2095.9070 - val_loss: 455.7090\n",
            "Epoch 8/10\n",
            "1563/1563 [==============================] - 7s 5ms/step - loss: 1493.7423 - val_loss: 3080.9026\n",
            "Epoch 9/10\n",
            "1563/1563 [==============================] - 7s 5ms/step - loss: 1184.4221 - val_loss: 7515.1045\n",
            "Epoch 10/10\n",
            "1563/1563 [==============================] - 7s 4ms/step - loss: 4688.0356 - val_loss: 2552.2671\n",
            "Epoch 1/20\n",
            "1563/1563 [==============================] - 8s 4ms/step - loss: 18.3254 - val_loss: 10.5845\n",
            "Epoch 2/20\n",
            "1563/1563 [==============================] - 7s 4ms/step - loss: 18.0137 - val_loss: 27.9096\n",
            "Epoch 3/20\n",
            "1563/1563 [==============================] - 7s 4ms/step - loss: 27.7538 - val_loss: 30.5712\n",
            "Epoch 4/20\n",
            "1563/1563 [==============================] - 7s 4ms/step - loss: 24.6193 - val_loss: 14.6639\n",
            "Epoch 5/20\n",
            "1563/1563 [==============================] - 7s 4ms/step - loss: 24.5309 - val_loss: 16.1502\n",
            "Epoch 6/20\n",
            "1563/1563 [==============================] - 7s 5ms/step - loss: 19.4726 - val_loss: 29.7011\n",
            "Epoch 7/20\n",
            "1563/1563 [==============================] - 7s 5ms/step - loss: 10.5407 - val_loss: 8.1438\n",
            "Epoch 8/20\n",
            "1563/1563 [==============================] - 7s 4ms/step - loss: 8.8704 - val_loss: 6.7665\n",
            "Epoch 9/20\n",
            "1563/1563 [==============================] - 7s 4ms/step - loss: 21.0017 - val_loss: 26.0730\n",
            "Epoch 10/20\n",
            "1563/1563 [==============================] - 7s 4ms/step - loss: 22.2897 - val_loss: 24.2227\n",
            "Epoch 11/20\n",
            "1563/1563 [==============================] - 7s 4ms/step - loss: 18.3467 - val_loss: 18.4941\n",
            "Epoch 12/20\n",
            "1563/1563 [==============================] - 7s 4ms/step - loss: 16.6326 - val_loss: 31.4271\n",
            "Epoch 13/20\n",
            "1563/1563 [==============================] - 7s 4ms/step - loss: 15.8471 - val_loss: 12.7159\n",
            "Epoch 14/20\n",
            "1563/1563 [==============================] - 7s 4ms/step - loss: 17.3382 - val_loss: 18.3654\n",
            "Epoch 15/20\n",
            "1563/1563 [==============================] - 7s 4ms/step - loss: 15.4414 - val_loss: 17.3087\n",
            "Epoch 16/20\n",
            "1563/1563 [==============================] - 7s 4ms/step - loss: 15.2061 - val_loss: 15.6306\n",
            "Epoch 17/20\n",
            "1563/1563 [==============================] - 7s 4ms/step - loss: 14.7957 - val_loss: 16.2412\n",
            "Epoch 18/20\n",
            "1563/1563 [==============================] - 7s 4ms/step - loss: 13.6711 - val_loss: 25.7911\n",
            "Epoch 19/20\n",
            "1563/1563 [==============================] - 7s 4ms/step - loss: 12.9574 - val_loss: 19.8737\n",
            "Epoch 20/20\n",
            "1563/1563 [==============================] - 7s 4ms/step - loss: 11.4983 - val_loss: 18.7544\n"
          ]
        }
      ]
    },
    {
      "cell_type": "code",
      "metadata": {
        "colab": {
          "base_uri": "https://localhost:8080/"
        },
        "id": "Bm9rku-ukLZ1",
        "outputId": "bad0c385-13a5-4dc0-c088-bd10a54d6c7a"
      },
      "source": [
        "y_pred = walk_model.predict([[53.35369873, -2.274950027, 7, 29, 11, 1000]])\n",
        "print(\"196\")\n",
        "print(y_pred)\n",
        "\n",
        "y_pred = walk_model.predict([[-33.94609833, 151.177002, 6, 11, 1, 100]])\n",
        "print(\"212\")\n",
        "print(y_pred)\n",
        "\n",
        "y_pred = walk_model.predict([[49.1939016, -123.1839981, 3, 26, 6, 3400]])\n",
        "print(\"115\")\n",
        "print(y_pred)"
      ],
      "execution_count": 109,
      "outputs": [
        {
          "output_type": "stream",
          "name": "stdout",
          "text": [
            "196\n",
            "[[178.75291]]\n",
            "212\n",
            "[[394.1416]]\n",
            "115\n",
            "[[35.844868]]\n"
          ]
        }
      ]
    },
    {
      "cell_type": "code",
      "metadata": {
        "colab": {
          "base_uri": "https://localhost:8080/",
          "height": 17
        },
        "id": "8Nm96diJSSuN",
        "outputId": "a766beb3-5e35-499e-ff1c-928d1a3e3003"
      },
      "source": [
        "from google.colab import files\n",
        "security_model.save('securitymodel.h5')\n",
        "files.download('securitymodel.h5')"
      ],
      "execution_count": 102,
      "outputs": [
        {
          "output_type": "display_data",
          "data": {
            "application/javascript": [
              "\n",
              "    async function download(id, filename, size) {\n",
              "      if (!google.colab.kernel.accessAllowed) {\n",
              "        return;\n",
              "      }\n",
              "      const div = document.createElement('div');\n",
              "      const label = document.createElement('label');\n",
              "      label.textContent = `Downloading \"${filename}\": `;\n",
              "      div.appendChild(label);\n",
              "      const progress = document.createElement('progress');\n",
              "      progress.max = size;\n",
              "      div.appendChild(progress);\n",
              "      document.body.appendChild(div);\n",
              "\n",
              "      const buffers = [];\n",
              "      let downloaded = 0;\n",
              "\n",
              "      const channel = await google.colab.kernel.comms.open(id);\n",
              "      // Send a message to notify the kernel that we're ready.\n",
              "      channel.send({})\n",
              "\n",
              "      for await (const message of channel.messages) {\n",
              "        // Send a message to notify the kernel that we're ready.\n",
              "        channel.send({})\n",
              "        if (message.buffers) {\n",
              "          for (const buffer of message.buffers) {\n",
              "            buffers.push(buffer);\n",
              "            downloaded += buffer.byteLength;\n",
              "            progress.value = downloaded;\n",
              "          }\n",
              "        }\n",
              "      }\n",
              "      const blob = new Blob(buffers, {type: 'application/binary'});\n",
              "      const a = document.createElement('a');\n",
              "      a.href = window.URL.createObjectURL(blob);\n",
              "      a.download = filename;\n",
              "      div.appendChild(a);\n",
              "      a.click();\n",
              "      div.remove();\n",
              "    }\n",
              "  "
            ],
            "text/plain": [
              "<IPython.core.display.Javascript object>"
            ]
          },
          "metadata": {}
        },
        {
          "output_type": "display_data",
          "data": {
            "application/javascript": [
              "download(\"download_372e0982-3b9e-4075-ad2e-8f8973f22336\", \"securitymodel.h5\", 229544)"
            ],
            "text/plain": [
              "<IPython.core.display.Javascript object>"
            ]
          },
          "metadata": {}
        }
      ]
    },
    {
      "cell_type": "code",
      "metadata": {
        "colab": {
          "base_uri": "https://localhost:8080/",
          "height": 17
        },
        "id": "lR8z8VRWlP06",
        "outputId": "133f1e7d-5041-46dd-828f-c4c8a306f9a9"
      },
      "source": [
        "from google.colab import files\n",
        "bus_model.save('busmodel.h5')\n",
        "files.download('busmodel.h5')"
      ],
      "execution_count": 103,
      "outputs": [
        {
          "output_type": "display_data",
          "data": {
            "application/javascript": [
              "\n",
              "    async function download(id, filename, size) {\n",
              "      if (!google.colab.kernel.accessAllowed) {\n",
              "        return;\n",
              "      }\n",
              "      const div = document.createElement('div');\n",
              "      const label = document.createElement('label');\n",
              "      label.textContent = `Downloading \"${filename}\": `;\n",
              "      div.appendChild(label);\n",
              "      const progress = document.createElement('progress');\n",
              "      progress.max = size;\n",
              "      div.appendChild(progress);\n",
              "      document.body.appendChild(div);\n",
              "\n",
              "      const buffers = [];\n",
              "      let downloaded = 0;\n",
              "\n",
              "      const channel = await google.colab.kernel.comms.open(id);\n",
              "      // Send a message to notify the kernel that we're ready.\n",
              "      channel.send({})\n",
              "\n",
              "      for await (const message of channel.messages) {\n",
              "        // Send a message to notify the kernel that we're ready.\n",
              "        channel.send({})\n",
              "        if (message.buffers) {\n",
              "          for (const buffer of message.buffers) {\n",
              "            buffers.push(buffer);\n",
              "            downloaded += buffer.byteLength;\n",
              "            progress.value = downloaded;\n",
              "          }\n",
              "        }\n",
              "      }\n",
              "      const blob = new Blob(buffers, {type: 'application/binary'});\n",
              "      const a = document.createElement('a');\n",
              "      a.href = window.URL.createObjectURL(blob);\n",
              "      a.download = filename;\n",
              "      div.appendChild(a);\n",
              "      a.click();\n",
              "      div.remove();\n",
              "    }\n",
              "  "
            ],
            "text/plain": [
              "<IPython.core.display.Javascript object>"
            ]
          },
          "metadata": {}
        },
        {
          "output_type": "display_data",
          "data": {
            "application/javascript": [
              "download(\"download_ac79911a-22c0-4e26-8d35-7af6c703045a\", \"busmodel.h5\", 229544)"
            ],
            "text/plain": [
              "<IPython.core.display.Javascript object>"
            ]
          },
          "metadata": {}
        }
      ]
    },
    {
      "cell_type": "code",
      "metadata": {
        "colab": {
          "base_uri": "https://localhost:8080/",
          "height": 17
        },
        "id": "5zyHLwjCrJVT",
        "outputId": "f3c9fda4-8ae5-488d-d385-8cdb9f785bb6"
      },
      "source": [
        "from google.colab import files\n",
        "walk_model.save('walkmodel.h5')\n",
        "files.download('walkmodel.h5')"
      ],
      "execution_count": 104,
      "outputs": [
        {
          "output_type": "display_data",
          "data": {
            "application/javascript": [
              "\n",
              "    async function download(id, filename, size) {\n",
              "      if (!google.colab.kernel.accessAllowed) {\n",
              "        return;\n",
              "      }\n",
              "      const div = document.createElement('div');\n",
              "      const label = document.createElement('label');\n",
              "      label.textContent = `Downloading \"${filename}\": `;\n",
              "      div.appendChild(label);\n",
              "      const progress = document.createElement('progress');\n",
              "      progress.max = size;\n",
              "      div.appendChild(progress);\n",
              "      document.body.appendChild(div);\n",
              "\n",
              "      const buffers = [];\n",
              "      let downloaded = 0;\n",
              "\n",
              "      const channel = await google.colab.kernel.comms.open(id);\n",
              "      // Send a message to notify the kernel that we're ready.\n",
              "      channel.send({})\n",
              "\n",
              "      for await (const message of channel.messages) {\n",
              "        // Send a message to notify the kernel that we're ready.\n",
              "        channel.send({})\n",
              "        if (message.buffers) {\n",
              "          for (const buffer of message.buffers) {\n",
              "            buffers.push(buffer);\n",
              "            downloaded += buffer.byteLength;\n",
              "            progress.value = downloaded;\n",
              "          }\n",
              "        }\n",
              "      }\n",
              "      const blob = new Blob(buffers, {type: 'application/binary'});\n",
              "      const a = document.createElement('a');\n",
              "      a.href = window.URL.createObjectURL(blob);\n",
              "      a.download = filename;\n",
              "      div.appendChild(a);\n",
              "      a.click();\n",
              "      div.remove();\n",
              "    }\n",
              "  "
            ],
            "text/plain": [
              "<IPython.core.display.Javascript object>"
            ]
          },
          "metadata": {}
        },
        {
          "output_type": "display_data",
          "data": {
            "application/javascript": [
              "download(\"download_9288a746-d095-4143-b606-749210b8fec2\", \"walkmodel.h5\", 229544)"
            ],
            "text/plain": [
              "<IPython.core.display.Javascript object>"
            ]
          },
          "metadata": {}
        }
      ]
    }
  ]
}